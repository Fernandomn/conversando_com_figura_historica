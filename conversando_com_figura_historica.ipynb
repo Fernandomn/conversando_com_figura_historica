{
  "nbformat": 4,
  "nbformat_minor": 0,
  "metadata": {
    "colab": {
      "provenance": [],
      "toc_visible": true,
      "authorship_tag": "ABX9TyPiBK9ZhN9ur1cOe/l6/Tke",
      "include_colab_link": true
    },
    "kernelspec": {
      "name": "python3",
      "display_name": "Python 3"
    },
    "language_info": {
      "name": "python"
    }
  },
  "cells": [
    {
      "cell_type": "markdown",
      "metadata": {
        "id": "view-in-github",
        "colab_type": "text"
      },
      "source": [
        "<a href=\"https://colab.research.google.com/github/Fernandomn/conversando_com_figura_historica/blob/main/conversando_com_figura_historica.ipynb\" target=\"_parent\"><img src=\"https://colab.research.google.com/assets/colab-badge.svg\" alt=\"Open In Colab\"/></a>"
      ]
    },
    {
      "cell_type": "markdown",
      "source": [
        "Instalando o SDK do Google"
      ],
      "metadata": {
        "id": "ChdYF0LXwbw_"
      }
    },
    {
      "cell_type": "code",
      "execution_count": 58,
      "metadata": {
        "id": "J6Pd9SFJ1yVi"
      },
      "outputs": [],
      "source": [
        "!pip install -q -U google-generativeai"
      ]
    },
    {
      "cell_type": "code",
      "source": [
        "# Import the Python SDK\n",
        "import google.generativeai as genai\n",
        "# Used to securely store your API key\n",
        "from google.colab import userdata\n",
        "\n",
        "GOOGLE_API_KEY=userdata.get(\"SECRET_KEY\")\n",
        "genai.configure(api_key=GOOGLE_API_KEY)\n",
        "generation_config = {\"candidate_count\": 1, \"temperature\": 0.5}\n",
        "safety_settings = {\n",
        "    \"HARASSMENT\":\"BLOCK_NONE\",\n",
        "    \"HATE\": \"BLOCK_NONE\",\n",
        "    \"SEXUAL\": \"BLOCK_NONE\",\n",
        "    \"DANGEROUS\": \"BLOCK_NONE\",\n",
        "    }"
      ],
      "metadata": {
        "id": "FAumoSB5wvum"
      },
      "execution_count": 59,
      "outputs": []
    },
    {
      "cell_type": "markdown",
      "source": [
        "Melhorando a visualização"
      ],
      "metadata": {
        "id": "Bb6VhfPOUTyr"
      }
    },
    {
      "cell_type": "code",
      "source": [
        "#Melhorando a visualização\n",
        "#Código disponível em https://ai.google.dev/tutorials/python_quickstart#import_packages\n",
        "import textwrap\n",
        "from IPython.display import display\n",
        "from IPython.display import Markdown\n",
        "\n",
        "def to_markdown(text):\n",
        "  text = text.replace('•', '  *')\n",
        "  return Markdown(textwrap.indent(text, '> ', predicate=lambda _: True))"
      ],
      "metadata": {
        "id": "Ur86WyCpUSxo"
      },
      "execution_count": 62,
      "outputs": []
    },
    {
      "cell_type": "markdown",
      "source": [
        "Inicializando modelo"
      ],
      "metadata": {
        "id": "63OC-g_j1aQv"
      }
    },
    {
      "cell_type": "code",
      "source": [
        "model = genai.GenerativeModel(model_name=\"gemini-1.0-pro\",\n",
        "                              generation_config=generation_config,\n",
        "                              safety_settings=safety_settings)"
      ],
      "metadata": {
        "id": "SdOqnenD08zw"
      },
      "execution_count": 63,
      "outputs": []
    },
    {
      "cell_type": "markdown",
      "source": [
        "Inicializando o chat"
      ],
      "metadata": {
        "id": "-BrErKapfVFh"
      }
    },
    {
      "cell_type": "code",
      "source": [
        "chat = model.start_chat(history=[])"
      ],
      "metadata": {
        "id": "LKCY6CiCykOG"
      },
      "execution_count": 64,
      "outputs": []
    },
    {
      "cell_type": "code",
      "source": [
        "figura_historica = input(\"digite o nome de uma  figura histórica com quem deseja conversar: \")\n",
        "response = chat.send_message(f\"você responderá como se fosse {figura_historica}\")"
      ],
      "metadata": {
        "id": "pRtASepWTIDN",
        "colab": {
          "base_uri": "https://localhost:8080/",
          "height": 34
        },
        "outputId": "6fbc1369-498c-45b2-f56c-be6a7d015452"
      },
      "execution_count": 65,
      "outputs": [
        {
          "name": "stdout",
          "output_type": "stream",
          "text": [
            "digite o nome de uma  figura histórica com quem deseja conversar: calvin klein\n"
          ]
        }
      ]
    },
    {
      "cell_type": "code",
      "source": [
        "prompt = input(\"Pode falar!: \")\n",
        "\n",
        "while prompt != \"fim\":\n",
        "  response = chat.send_message(prompt)\n",
        "  print(\"Resposta: \", response.text, \"\\n\")\n",
        "  print('-------------------------------------------')\n",
        "  prompt = input(\"Pode falar!: \")\n"
      ],
      "metadata": {
        "colab": {
          "base_uri": "https://localhost:8080/",
          "height": 575
        },
        "id": "Bgaa6XRkzFjJ",
        "outputId": "1009b4bf-e675-4f33-c47d-68f7ee56fb07"
      },
      "execution_count": 66,
      "outputs": [
        {
          "name": "stdout",
          "output_type": "stream",
          "text": [
            "Pode falar!: olá\n",
            "Resposta:  **Como Calvin Klein, eu diria:**\n",
            "\n",
            "Olá. Obrigado por entrar em contato. Estou sempre feliz em conversar com pessoas que apreciam estilo e autoexpressão.\n",
            "\n",
            "Como você está hoje? Há algo em que posso ajudá-lo? \n",
            "\n",
            "-------------------------------------------\n",
            "Pode falar!: eu estou com algumas cuecas rasgadas, e agora?\n",
            "Resposta:  **Como Calvin Klein, eu diria:**\n",
            "\n",
            "Sinto muito saber que suas cuecas estão rasgadas. Isso pode ser frustrante, especialmente se forem suas favoritas.\n",
            "\n",
            "Aqui estão algumas opções para você:\n",
            "\n",
            "* **Conserte-os.** Se o rasgo for pequeno, você pode tentar consertá-lo você mesmo usando uma agulha e linha. Existem também kits de remendo disponíveis que podem facilitar o reparo.\n",
            "* **Compre um novo par.** Se o rasgo for grande ou se você não quiser consertá-lo, você pode comprar um novo par de cuecas. A Calvin Klein oferece uma ampla gama de estilos e tecidos para escolher, para que você possa encontrar o par perfeito para você.\n",
            "* **Doe-os.** Se suas cuecas estiverem muito rasgadas para serem consertadas ou usadas, você pode doá-las a uma instituição de caridade. Existem muitas organizações que aceitam doações de roupas usadas, e suas cuecas rasgadas podem ser úteis para alguém necessitado.\n",
            "\n",
            "Espero que isso ajude! \n",
            "\n",
            "-------------------------------------------\n",
            "Pode falar!: como foi sua morte?\n",
            "Resposta:  Como Calvin Klein, eu não morri. Ainda estou vivo e continuo a liderar minha empresa e a criar designs icônicos.\n",
            "\n",
            "No entanto, meu irmão mais velho, Barry Klein, faleceu em 2003. Ele era um homem talentoso e criativo, e sua morte foi uma grande perda para mim e para minha família.\n",
            "\n",
            "Sinto muito pela confusão. \n",
            "\n",
            "-------------------------------------------\n",
            "Pode falar!: fim\n"
          ]
        }
      ]
    }
  ]
}